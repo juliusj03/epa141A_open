{
 "cells": [
  {
   "cell_type": "markdown",
   "metadata": {},
   "source": [
    "# Week 3 - Sensitivity analysis\n",
    "\n",
    "This exercise uses the same predator-prey model we used for the multi-model exercise, focusing on the Python version. As with the other exercise, define a model object for the function below, with the uncertainty ranges provided:\n",
    "\n",
    "|Parameter\t|Range or value\t        |\n",
    "|-----------|--------------:|\n",
    "|prey_birth_rate    \t|0.015 – 0.035\t|\n",
    "|predation_rate|0.0005 – 0.003 \t|\n",
    "|predator_efficiency     \t|0.001 – 0.004\t    |\n",
    "|predator_loss_rate\t    |0.04 – 0.08\t    |"
   ]
  },
  {
   "cell_type": "code",
   "execution_count": 2,
   "metadata": {
    "collapsed": false
   },
   "outputs": [],
   "source": [
    "import numpy as np\n",
    "import matplotlib.pyplot as plt\n",
    "\n",
    "from ema_workbench import (Model, RealParameter, TimeSeriesOutcome, perform_experiments, ema_logging)\n",
    "\n",
    "from ema_workbench import Samplers\n",
    "import statsmodels.api as sm\n",
    "import statsmodels.formula.api as smf\n",
    "from ema_workbench.analysis import feature_scoring\n",
    "from ema_workbench.analysis.scenario_discovery_util import RuleInductionType\n",
    "from ema_workbench.em_framework.salib_samplers import get_SALib_problem\n",
    "from SALib.analyze import sobol\n"
   ]
  },
  {
   "cell_type": "code",
   "execution_count": 3,
   "metadata": {
    "collapsed": false
   },
   "outputs": [],
   "source": [
    "def pred_prey(prey_birth_rate=0.025, predation_rate=0.0015, predator_efficiency=0.002,\n",
    "             predator_loss_rate=0.06, initial_prey=50, initial_predators=20, dt=0.25,\n",
    "             final_time=365, reps=1):\n",
    "\n",
    "    #Initial values\n",
    "    predators = np.zeros((reps, int(final_time/dt)+1))\n",
    "    prey = np.zeros((reps, int(final_time/dt)+1))\n",
    "    sim_time = np.zeros((reps, int(final_time/dt)+1))\n",
    "\n",
    "    for r in range(reps):\n",
    "\n",
    "        predators[r,0] = initial_predators\n",
    "        prey[r,0] = initial_prey\n",
    "\n",
    "    #Calculate the time series\n",
    "    for t in range(0, sim_time.shape[1]-1):\n",
    "\n",
    "        dx = (prey_birth_rate*prey[r,t]) - (predation_rate*prey[r,t]*predators[r,t])\n",
    "        dy = (predator_efficiency*predators[r,t]*prey[r,t]) - (predator_loss_rate*predators[r,t])\n",
    "\n",
    "        prey[r,t+1] = max(prey[r,t] + dx*dt, 0)\n",
    "        predators[r,t+1] = max(predators[r,t] + dy*dt, 0)\n",
    "        sim_time[r,t+1] = (t+1)*dt\n",
    "\n",
    "    #Return outcomes\n",
    "    return {'TIME':sim_time,\n",
    "            'predators':predators,\n",
    "            'prey':prey}"
   ]
  },
  {
   "cell_type": "markdown",
   "metadata": {
    "collapsed": false
   },
   "source": [
    "#### 1. Sensitivity analysis\n",
    "Sensitivity analysis often focuses on the final values of an outcome at the end of the simulation. However, we can also look at metrics that give us additional information about the behavior of the model over time. Using [the statsmodel library](https://www.statsmodels.org/stable/index.html) and an appropriate sampling design, fit a linear regression model for each of the following indicators. What can we conclude about the behavior of the model, and about the importance of the different inputs?\n",
    "\n",
    "  * The final values of the _prey_ outcome\n",
    "  * The mean values of the _prey_ outcome over time, within each experiment\n",
    "  * The standard deviations of the _prey_ outcome over time, within each experiment"
   ]
  },
  {
   "cell_type": "code",
   "execution_count": 4,
   "metadata": {},
   "outputs": [
    {
     "name": "stdout",
     "output_type": "stream",
     "text": [
      "   predation_rate  predator_efficiency  predator_loss_rate  prey_birth_rate\n",
      "0        0.002137             0.002381            0.042563         0.030916\n",
      "1        0.002792             0.001040            0.051377         0.021712\n",
      "2        0.001654             0.003221            0.076470         0.015020\n",
      "3        0.001415             0.001297            0.063982         0.029352\n",
      "4        0.001013             0.001807            0.053877         0.016845\n"
     ]
    }
   ],
   "source": [
    "from ema_workbench import RealParameter, Model\n",
    "from ema_workbench.em_framework.samplers import LHSSampler, sample_uncertainties\n",
    "import pandas as pd\n",
    "\n",
    "# Define your model\n",
    "model = Model('predprey', function=pred_prey)\n",
    "model.uncertainties = [\n",
    "    RealParameter('prey_birth_rate', 0.015, 0.035),\n",
    "    RealParameter('predation_rate', 0.0005, 0.003),\n",
    "    RealParameter('predator_efficiency', 0.001, 0.004),\n",
    "    RealParameter('predator_loss_rate', 0.04, 0.08),\n",
    "]\n",
    "\n",
    "# Sample scenarios from model uncertainties\n",
    "scenarios = list(sample_uncertainties(models=[model], n_samples=100, sampler=LHSSampler()))\n",
    "samples_df = pd.DataFrame.from_records(scenarios)\n",
    "print(samples_df.head())"
   ]
  },
  {
   "cell_type": "code",
   "execution_count": 5,
   "metadata": {},
   "outputs": [
    {
     "name": "stderr",
     "output_type": "stream",
     "text": [
      "100%|███████████████████████████████████████| 100/100 [00:00<00:00, 478.32it/s]\n"
     ]
    }
   ],
   "source": [
    "model.outcomes = [\n",
    "    TimeSeriesOutcome('TIME'),\n",
    "    TimeSeriesOutcome('predators'),\n",
    "    TimeSeriesOutcome('prey')\n",
    "]\n",
    "from ema_workbench import SequentialEvaluator, MultiprocessingEvaluator\n",
    "from ema_workbench.em_framework.optimization import HyperVolume, EpsilonProgress\n",
    "from ema_workbench.em_framework.evaluators import Samplers\n",
    "\n",
    "\n",
    "# with MultiprocessingEvaluator(model) as evaluator:\n",
    "#     experimenents, outcomes = evaluator.perform_experiments(n_scenarios, n_policies, lever_sampling=Samplers.MC)\n",
    "with SequentialEvaluator(model) as evaluator:\n",
    "    experiments, outcomes = evaluator.perform_experiments(scenarios=scenarios)\n",
    "\n",
    "\n"
   ]
  },
  {
   "cell_type": "code",
   "execution_count": 6,
   "metadata": {},
   "outputs": [
    {
     "data": {
      "text/html": [
       "<div>\n",
       "<style scoped>\n",
       "    .dataframe tbody tr th:only-of-type {\n",
       "        vertical-align: middle;\n",
       "    }\n",
       "\n",
       "    .dataframe tbody tr th {\n",
       "        vertical-align: top;\n",
       "    }\n",
       "\n",
       "    .dataframe thead th {\n",
       "        text-align: right;\n",
       "    }\n",
       "</style>\n",
       "<table border=\"1\" class=\"dataframe\">\n",
       "  <thead>\n",
       "    <tr style=\"text-align: right;\">\n",
       "      <th></th>\n",
       "      <th>prey_birth_rate</th>\n",
       "      <th>predation_rate</th>\n",
       "      <th>predator_efficiency</th>\n",
       "      <th>predator_loss_rate</th>\n",
       "      <th>scenario</th>\n",
       "      <th>policy</th>\n",
       "      <th>model</th>\n",
       "    </tr>\n",
       "  </thead>\n",
       "  <tbody>\n",
       "    <tr>\n",
       "      <th>0</th>\n",
       "      <td>0.030916</td>\n",
       "      <td>0.002137</td>\n",
       "      <td>0.002381</td>\n",
       "      <td>0.042563</td>\n",
       "      <td>0</td>\n",
       "      <td>None</td>\n",
       "      <td>predprey</td>\n",
       "    </tr>\n",
       "    <tr>\n",
       "      <th>1</th>\n",
       "      <td>0.021712</td>\n",
       "      <td>0.002792</td>\n",
       "      <td>0.001040</td>\n",
       "      <td>0.051377</td>\n",
       "      <td>1</td>\n",
       "      <td>None</td>\n",
       "      <td>predprey</td>\n",
       "    </tr>\n",
       "    <tr>\n",
       "      <th>2</th>\n",
       "      <td>0.015020</td>\n",
       "      <td>0.001654</td>\n",
       "      <td>0.003221</td>\n",
       "      <td>0.076470</td>\n",
       "      <td>2</td>\n",
       "      <td>None</td>\n",
       "      <td>predprey</td>\n",
       "    </tr>\n",
       "    <tr>\n",
       "      <th>3</th>\n",
       "      <td>0.029352</td>\n",
       "      <td>0.001415</td>\n",
       "      <td>0.001297</td>\n",
       "      <td>0.063982</td>\n",
       "      <td>3</td>\n",
       "      <td>None</td>\n",
       "      <td>predprey</td>\n",
       "    </tr>\n",
       "    <tr>\n",
       "      <th>4</th>\n",
       "      <td>0.016845</td>\n",
       "      <td>0.001013</td>\n",
       "      <td>0.001807</td>\n",
       "      <td>0.053877</td>\n",
       "      <td>4</td>\n",
       "      <td>None</td>\n",
       "      <td>predprey</td>\n",
       "    </tr>\n",
       "    <tr>\n",
       "      <th>...</th>\n",
       "      <td>...</td>\n",
       "      <td>...</td>\n",
       "      <td>...</td>\n",
       "      <td>...</td>\n",
       "      <td>...</td>\n",
       "      <td>...</td>\n",
       "      <td>...</td>\n",
       "    </tr>\n",
       "    <tr>\n",
       "      <th>95</th>\n",
       "      <td>0.019929</td>\n",
       "      <td>0.002011</td>\n",
       "      <td>0.002795</td>\n",
       "      <td>0.076062</td>\n",
       "      <td>95</td>\n",
       "      <td>None</td>\n",
       "      <td>predprey</td>\n",
       "    </tr>\n",
       "    <tr>\n",
       "      <th>96</th>\n",
       "      <td>0.034013</td>\n",
       "      <td>0.000880</td>\n",
       "      <td>0.001086</td>\n",
       "      <td>0.049358</td>\n",
       "      <td>96</td>\n",
       "      <td>None</td>\n",
       "      <td>predprey</td>\n",
       "    </tr>\n",
       "    <tr>\n",
       "      <th>97</th>\n",
       "      <td>0.032072</td>\n",
       "      <td>0.002473</td>\n",
       "      <td>0.002332</td>\n",
       "      <td>0.052730</td>\n",
       "      <td>97</td>\n",
       "      <td>None</td>\n",
       "      <td>predprey</td>\n",
       "    </tr>\n",
       "    <tr>\n",
       "      <th>98</th>\n",
       "      <td>0.018153</td>\n",
       "      <td>0.002116</td>\n",
       "      <td>0.001372</td>\n",
       "      <td>0.040343</td>\n",
       "      <td>98</td>\n",
       "      <td>None</td>\n",
       "      <td>predprey</td>\n",
       "    </tr>\n",
       "    <tr>\n",
       "      <th>99</th>\n",
       "      <td>0.031909</td>\n",
       "      <td>0.001902</td>\n",
       "      <td>0.002318</td>\n",
       "      <td>0.058664</td>\n",
       "      <td>99</td>\n",
       "      <td>None</td>\n",
       "      <td>predprey</td>\n",
       "    </tr>\n",
       "  </tbody>\n",
       "</table>\n",
       "<p>100 rows × 7 columns</p>\n",
       "</div>"
      ],
      "text/plain": [
       "    prey_birth_rate  predation_rate  predator_efficiency  predator_loss_rate  \\\n",
       "0          0.030916        0.002137             0.002381            0.042563   \n",
       "1          0.021712        0.002792             0.001040            0.051377   \n",
       "2          0.015020        0.001654             0.003221            0.076470   \n",
       "3          0.029352        0.001415             0.001297            0.063982   \n",
       "4          0.016845        0.001013             0.001807            0.053877   \n",
       "..              ...             ...                  ...                 ...   \n",
       "95         0.019929        0.002011             0.002795            0.076062   \n",
       "96         0.034013        0.000880             0.001086            0.049358   \n",
       "97         0.032072        0.002473             0.002332            0.052730   \n",
       "98         0.018153        0.002116             0.001372            0.040343   \n",
       "99         0.031909        0.001902             0.002318            0.058664   \n",
       "\n",
       "   scenario policy     model  \n",
       "0         0   None  predprey  \n",
       "1         1   None  predprey  \n",
       "2         2   None  predprey  \n",
       "3         3   None  predprey  \n",
       "4         4   None  predprey  \n",
       "..      ...    ...       ...  \n",
       "95       95   None  predprey  \n",
       "96       96   None  predprey  \n",
       "97       97   None  predprey  \n",
       "98       98   None  predprey  \n",
       "99       99   None  predprey  \n",
       "\n",
       "[100 rows x 7 columns]"
      ]
     },
     "execution_count": 6,
     "metadata": {},
     "output_type": "execute_result"
    }
   ],
   "source": [
    "experiments"
   ]
  },
  {
   "cell_type": "code",
   "execution_count": 7,
   "metadata": {},
   "outputs": [
    {
     "name": "stdout",
     "output_type": "stream",
     "text": [
      "(100, 1461)\n",
      "                            OLS Regression Results                            \n",
      "==============================================================================\n",
      "Dep. Variable:                      y   R-squared:                       0.314\n",
      "Model:                            OLS   Adj. R-squared:                  0.286\n",
      "Method:                 Least Squares   F-statistic:                     10.90\n",
      "Date:                Wed, 07 May 2025   Prob (F-statistic):           2.59e-07\n",
      "Time:                        16:55:25   Log-Likelihood:                -419.23\n",
      "No. Observations:                 100   AIC:                             848.5\n",
      "Df Residuals:                      95   BIC:                             861.5\n",
      "Df Model:                           4                                         \n",
      "Covariance Type:            nonrobust                                         \n",
      "=======================================================================================\n",
      "                          coef    std err          t      P>|t|      [0.025      0.975]\n",
      "---------------------------------------------------------------------------------------\n",
      "const                  21.8215     14.856      1.469      0.145      -7.671      51.314\n",
      "prey_birth_rate       -54.3240    294.543     -0.184      0.854    -639.066     530.418\n",
      "predation_rate       -539.9271   2278.064     -0.237      0.813   -5062.456    3982.602\n",
      "predator_efficiency -9335.8696   1908.726     -4.891      0.000   -1.31e+04   -5546.569\n",
      "predator_loss_rate    554.2854    147.910      3.747      0.000     260.647     847.924\n",
      "==============================================================================\n",
      "Omnibus:                        7.776   Durbin-Watson:                   1.951\n",
      "Prob(Omnibus):                  0.020   Jarque-Bera (JB):                7.852\n",
      "Skew:                           0.686   Prob(JB):                       0.0197\n",
      "Kurtosis:                       3.064   Cond. No.                     1.39e+03\n",
      "==============================================================================\n",
      "\n",
      "Notes:\n",
      "[1] Standard Errors assume that the covariance matrix of the errors is correctly specified.\n",
      "[2] The condition number is large, 1.39e+03. This might indicate that there are\n",
      "strong multicollinearity or other numerical problems.\n"
     ]
    }
   ],
   "source": [
    "# Extract outputs\n",
    "y = outcomes['prey'].squeeze()  # Now shape is (100, 1461)\n",
    "X = sm.add_constant(experiments[['prey_birth_rate', 'predation_rate', 'predator_efficiency', 'predator_loss_rate']])\n",
    "\n",
    "# Run OLS for each target\n",
    "results = {}\n",
    "targets = {\n",
    "    'Final Prey': y[:, -1],          # final time step\n",
    "    'Mean Prey': y.mean(axis=1),     # average over time\n",
    "    'Std Prey': y.std(axis=1),       # std dev over time\n",
    "}\n",
    "print(y.shape)\n",
    "for label, y in targets.items():\n",
    "    model_ols = sm.OLS(y, X).fit()\n",
    "    results[label] = model_ols.summary()\n",
    "\n",
    "# Print one example\n",
    "print(results['Final Prey'])"
   ]
  },
  {
   "cell_type": "markdown",
   "metadata": {
    "collapsed": false
   },
   "source": [
    "#### 2. SOBOL\n",
    "Use the Sobol sampling functionality included in the Workbench to perform experiments with a sample size of N=50, then analyze the results with SALib for the same three indicators. This requires specifying the keyword argument `'uncertainty_sampling'` of perform_experiments. Note that when using Sobol sampling, the meaning of the keyword argument `scenarios` changes a bit. In order to properly estimate Sobol scores as well as interaction effects, you require N * (2D+2) scenarios, where D is the number of uncertain parameters, and N is the value for scenarios passed to `perform_experiments`. Repeat the analysis for larger sample sizes, with N=250 and N=1000. How can we interpret the first-order and total indices? Are these sample sizes sufficient for a stable estimation of the indices? You'll need to use the [get_SALib_problem](https://emaworkbench.readthedocs.io/en/latest/ema_documentation/em_framework/salib_samplers.html) function to convert your Workbench experiments to a problem definition that you can pass to the SALib analysis function.\n",
    "\n",
    "*hint*: sobol is a deterministic sequence of quasi random numbers. Thus, you can run with N=1000 and simply use slicing to get the results for N=50 and N=250."
   ]
  },
  {
   "cell_type": "code",
   "execution_count": 8,
   "metadata": {
    "collapsed": false
   },
   "outputs": [
    {
     "name": "stderr",
     "output_type": "stream",
     "text": [
      "100%|█████████████████████████████████████| 2560/2560 [00:05<00:00, 475.15it/s]"
     ]
    },
    {
     "name": "stdout",
     "output_type": "stream",
     "text": [
      "                           ST   ST_conf        S1   S1_conf\n",
      "predation_rate       1.508578  2.161720 -0.044127  1.136830\n",
      "predator_efficiency  0.513688  0.471962  0.210627  0.868058\n",
      "predator_loss_rate   0.607102  0.513841 -0.092848  0.880511\n",
      "prey_birth_rate      1.312184  1.260193 -0.204415  1.444668\n",
      "                     predation_rate  predator_efficiency  predator_loss_rate  \\\n",
      "predation_rate                  NaN            -0.215927            0.401495   \n",
      "predator_efficiency             NaN                  NaN            0.766729   \n",
      "predator_loss_rate              NaN                  NaN                 NaN   \n",
      "prey_birth_rate                 NaN                  NaN                 NaN   \n",
      "\n",
      "                     prey_birth_rate  \n",
      "predation_rate              1.120229  \n",
      "predator_efficiency         0.861734  \n",
      "predator_loss_rate          0.247553  \n",
      "prey_birth_rate                  NaN  \n",
      "                     predation_rate  predator_efficiency  predator_loss_rate  \\\n",
      "predation_rate                  NaN             1.489959            0.991231   \n",
      "predator_efficiency             NaN                  NaN            1.290795   \n",
      "predator_loss_rate              NaN                  NaN                 NaN   \n",
      "prey_birth_rate                 NaN                  NaN                 NaN   \n",
      "\n",
      "                     prey_birth_rate  \n",
      "predation_rate              1.926015  \n",
      "predator_efficiency         1.485453  \n",
      "predator_loss_rate          1.573005  \n",
      "prey_birth_rate                  NaN  \n"
     ]
    },
    {
     "name": "stderr",
     "output_type": "stream",
     "text": [
      "\n",
      "c:\\Users\\juliu\\anaconda3\\envs\\gds24\\lib\\site-packages\\SALib\\util\\__init__.py:274: FutureWarning: unique with argument that is not not a Series, Index, ExtensionArray, or np.ndarray is deprecated and will raise in a future version.\n",
      "  names = list(pd.unique(groups))\n"
     ]
    }
   ],
   "source": [
    "from SALib.analyze import sobol\n",
    "n_scenarios = 256\n",
    "\n",
    "with SequentialEvaluator(model) as evaluator:\n",
    "        results = evaluator.perform_experiments(\n",
    "            n_scenarios, uncertainty_sampling=Samplers.SOBOL\n",
    "        )\n",
    "problem = get_SALib_problem(model.uncertainties)\n",
    "y = outcomes['prey'][:, 0, -1]  # shape becomes (100,)\n",
    "y.shape\n",
    "sobol_indices = sobol.analyze(problem, y)\n",
    "sobol_stats = {key: sobol_indices[key] for key in [\"ST\", \"ST_conf\", \"S1\", \"S1_conf\"]}\n",
    "sobol_stats = pd.DataFrame(sobol_stats, index=problem[\"names\"])\n",
    "sobol_stats.sort_values(by=\"ST\", ascending=False)\n",
    "s2 = pd.DataFrame(sobol_indices[\"S2\"], index=problem[\"names\"], columns=problem[\"names\"])\n",
    "s2_conf = pd.DataFrame(\n",
    "    sobol_indices[\"S2_conf\"], index=problem[\"names\"], columns=problem[\"names\"]\n",
    ")\n",
    "print(sobol_stats)\n",
    "print(s2)\n",
    "print(s2_conf)"
   ]
  },
  {
   "cell_type": "code",
   "execution_count": 10,
   "metadata": {},
   "outputs": [
    {
     "data": {
      "image/png": "[encoded data removed]",
      "text/plain": [
       "<Figure size 800x600 with 1 Axes>"
      ]
     },
     "metadata": {},
     "output_type": "display_data"
    }
   ],
   "source": [
    "# Extract parameter names and corresponding ST values and confidence intervals\n",
    "parameters = sobol_stats.index.tolist()\n",
    "ST_values = sobol_stats['ST'].values\n",
    "ST_conf = sobol_stats['ST_conf'].values\n",
    "\n",
    "# Create a horizontal bar chart\n",
    "plt.figure(figsize=(8, 6))\n",
    "bars = plt.barh(parameters, ST_values, xerr=ST_conf, color='skyblue', edgecolor='black')\n",
    "\n",
    "# Add labels and title\n",
    "plt.xlabel('Total-Order Sobol Index (ST)')\n",
    "plt.title('Total-Order Sobol Sensitivity Indices')\n",
    "plt.grid(axis='x', linestyle='--', alpha=0.7)\n",
    "plt.tight_layout()\n",
    "plt.show()"
   ]
  },
  {
   "cell_type": "markdown",
   "metadata": {
    "collapsed": false
   },
   "source": [
    "#### 3. Extra trees\n",
    "Use the [Extra-Trees analysis](https://emaworkbench.readthedocs.io/en/latest/ema_documentation/analysis/feature_scoring.html) included in the Workbench to approximate the Sobol total indices, with a suitable sampling design. As a starting point, use an ensemble of 100 trees and a max_features parameter of 0.6, and set the analysis to regression mode. Are the estimated importances stable relative to the sample size and the analysis parameters? How do the results compare to the Sobol indices? For more details on this analysis see [Jaxa-Rozen & Kwakkel (2018)](https://www.sciencedirect.com/science/article/pii/S1364815217311581)"
   ]
  },
  {
   "cell_type": "code",
   "execution_count": null,
   "metadata": {
    "collapsed": false
   },
   "outputs": [],
   "source": []
  }
 ],
 "metadata": {
  "kernelspec": {
   "display_name": "gds24",
   "language": "python",
   "name": "python3"
  },
  "language_info": {
   "codemirror_mode": {
    "name": "ipython",
    "version": 3
   },
   "file_extension": ".py",
   "mimetype": "text/x-python",
   "name": "python",
   "nbconvert_exporter": "python",
   "pygments_lexer": "ipython3",
   "version": "3.10.15"
  }
 },
 "nbformat": 4,
 "nbformat_minor": 2
}
