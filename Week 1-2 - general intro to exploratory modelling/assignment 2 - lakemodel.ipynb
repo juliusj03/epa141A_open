{
 "cells": [
  {
   "cell_type": "markdown",
   "metadata": {
    "collapsed": false
   },
   "source": [
    "## 2. Lake model: Exploring the behavior of a decision-making system\n",
    "\n",
    "Explore the lake problem, connect it to the workbench, investigate system behavior, analyze trade-offs, and learn about parallelization.\n",
    "\n",
    "See also [this general introduction to the workbench](https://waterprogramming.wordpress.com/2017/11/01/using-the-exploratory-modelling-workbench/) as a source of inspiration for completing the assignment below\n",
    "\n",
    "### Overview of this notebook\n",
    "- Learn about the Lake Problem, a decision-making example about pollution management\n",
    "  - Connect the Python implementation of the lake model to the EMA workbench\n",
    "  - Define and explore uncertainties and decision levers in the model\n",
    "- Investigate the behavior of the system under various scenarios and policies\n",
    "  - Visualize and analyze trade-offs between outcomes\n",
    "- Experiment with parallelization techniques to improve computational efficiency"
   ]
  },
  {
   "cell_type": "markdown",
   "metadata": {},
   "source": [
    "### The Lake model\n",
    "The exploratory modeling workbench includes an [examples folder](https://github.com/quaquel/EMAworkbench/tree/master/ema_workbench/examples). This folder contains a variety of examples that demonstrate the functionality of the workbench. Many of these examples have been drawn from published cases. Here, we use the Lake Problem as an example for demonstrating some of the key functionality of the workbench.\n",
    "\n",
    "We demonstrate some of the key capabilities of the exploratory modeling workbench using the Lake problem. The lake problem is a stylized and hypothetical decision problem where the population of a city has to decide on the amount of annual pollution it will put into a lake. It the pollution in the lake passes a threshold, it will suffer irreversible eutrophication (nutrient overenrichment).\n",
    "\n",
    "#### Model\n",
    "This can be modeled as a system of ordinary differential equations (ODEs) as follows:\n",
    "\n",
    "\\begin{equation}\n",
    "    X_{(t+1)}=X_t+a_t+\\frac{(X_t^q)}{(1+X_t^q )}- bX_t+\\epsilon_t\n",
    "\\end{equation}\n",
    "\n",
    "where\n",
    " - $X_t$ is the pollution at time $t$\n",
    " - $a_t$ is the rate of anthropogenic pollution at time $t$\n",
    " - $b$ is the lake’s natural removal rate\n",
    " - $q$ is the lake's natural recycling rate\n",
    " - $\\epsilon_t$ is the rate of natural pollution at time $t$.\n",
    "\n",
    "The rate of anthropogenic pollution $a_t$ is the decision variable and is somewhere between 0, and 0.1. So $a_t \\in [0,0.1]$. The natural pollution $\\epsilon_t$ is modeled, following Singh et al. (2015), as a log normal distribution with mean $\\mu$ and standard deviation $\\sigma$.\n",
    "\n",
    "\n",
    "#### Outcomes\n",
    "There are four outcomes of interest.\n",
    " 1. The first is the average concentration of phosphor in the lake.\n",
    "\n",
    "\\begin{equation}\n",
    "    f_{phosphorus}=  \\frac{1}{\\left\\vert{T}\\right\\vert} \\sum\\limits_{t\\in{T}} X_t \n",
    "\\end{equation}\n",
    "\n",
    "   where $\\left\\vert{T}\\right\\vert$ is the cardinality of the set of points in time.\n",
    "\n",
    " 2. The second objective is the economic benefit derived from polluting the lake. Following Singh et al. (2015), this is defined as the discounted benefit of pollution mines the costs of having a polluted lake\n",
    "\n",
    "\\begin{equation}\n",
    "    f_{economic} = \\sum\\limits_{t \\in {T}}\\alpha a_t \\delta^t \n",
    "\\end{equation}\n",
    "\n",
    "   where $\\alpha$ is the utility derived from polluting and $\\delta$ is the discount rate. By default, $\\alpha$ is 0.04.\n",
    "\n",
    "  3. The third objective is related to the year-over-year change in the anthropogenic pollution rate.\n",
    "\n",
    "\\begin{equation}\n",
    "    f_{inertia} =\\frac{1}{\\left\\vert{T}\\right\\vert-1} \\sum\\limits_{t=1}^{\\left\\vert{T}\\right\\vert} I(|a_{t}-a_{t-1} |>\\tau)   \n",
    "\\end{equation}\n",
    "\n",
    "   where $I$ is an indicator function that is 0 if the statement is false, and 1 if the statement is true, $\\tau$ is the threshold that is deemed undesirable, and is for illustrative purposes et to 0.2. Effectively, f_{inertia} is the fraction of years when the absolute value of the change in anthropogenic pollution is larger then $\\tau$.\n",
    "\n",
    " 4. The fourth objective is the fraction of years when the pollution in the lake is below the critical threshold.\n",
    "\n",
    "\\begin{equation}\n",
    "    f_{reliability} =  \\frac{1}{\\left\\vert{T}\\right\\vert} \\sum\\limits_{t \\in T}I(X_{t}<X_{crit} ) \n",
    "\\end{equation}\n",
    "\n",
    "   where $I$ is an indicator function that is 0 if the statement is false, and 1 if the statement is true, $X_{crit}$ is the critical threshold of pollution and is a function of both $b$ and $q$.\n",
    "\n",
    "#### Uncertainty\n",
    "The lake problem is characterized by both stochastic uncertainty and deep uncertainty.\n",
    " - The stochastic uncertainty arises from the natural inflow. To reduce this stochastic uncertainty, multiple replications are performed and the average over the replications is taken.\n",
    " - Deep uncertainty is presented by uncertainty about the mean $\\mu$ and standard deviation $\\sigma$ of the lognormal distribution characterizing the natural inflow, the natural removal rate of the lake $\\beta$, the natural recycling rate of the lake $q$, and the discount rate $\\delta$. The table below specifies the ranges for the deeply uncertain factors, as well as their best estimate or default values."
   ]
  },
  {
   "cell_type": "markdown",
   "metadata": {
    "collapsed": false
   },
   "source": [
    "### Assignment\n",
    "_If you at any moment get stuck on this assignment, the [General Introduction](https://emaworkbench.readthedocs.io/en/latest/indepth_tutorial/general-introduction.html) of the EMAworkbench is a good source of inspiration._\n",
    "\n",
    "1. Given the Python implementation of the lake problem in [`lakemodel_function.py`](lakemodel_function.py), adapt this code and connect it to the workbench.\n",
    "\n",
    "For the uncertainties, use the following table\n",
    "\n",
    "|Parameter\t|Range\t        |Default value|\n",
    "|-----------|--------------:|------------:|\n",
    "|$\\mu$    \t|0.01 – 0.05\t|0.02         |\n",
    "|$\\sigma$\t|0.001 – 0.005 \t|0.0017       |\n",
    "|$b$      \t|0.1 – 0.45\t    |0.42         |\n",
    "|$q$\t    |2 – 4.5\t    |2            |\n",
    "|$\\delta$\t|0.93 – 0.99\t|0.98         |\n",
    "\n",
    "For now, assume that for each year a release decision is made. The release is between 0 and 0.1. Carefully look at line 24 in `lakemodel_function.py` to identify the name to use for each lever."
   ]
  },
  {
   "cell_type": "code",
   "execution_count": 7,
   "metadata": {
    "ExecuteTime": {
     "end_time": "2023-04-07T13:56:55.062961Z",
     "start_time": "2023-04-07T13:56:55.061449Z"
    }
   },
   "outputs": [],
   "source": [
    "from lakemodel_function import lake_problem\n",
    "from ema_workbench import (\n",
    "    Model,\n",
    "    RealParameter,\n",
    "    ScalarOutcome,\n",
    "    ema_logging,\n",
    "    MultiprocessingEvaluator,\n",
    "    Constraint,\n",
    ")\n",
    "\n",
    "# Instantiate the model\n",
    "\n",
    "model = Model('LAKE', function=lake_problem)\n",
    "model.time_horizon = 100\n",
    "# Specify uncertainties\n",
    "model.uncertainties = [RealParameter('b', 0.1, 0.45),\n",
    "                       RealParameter('q', 2, 4.5),\n",
    "                       RealParameter('mean', 0.01, 0.05),\n",
    "                       RealParameter('stdev', 0.001, 0.005),\n",
    "                       RealParameter('delta', 0.93, 0.99),\n",
    "                       ]\n",
    "\n",
    "\n",
    "# Set levers, one for each time step\n",
    "\n",
    "model.levers = [RealParameter(f\"l{i}\",0,0.1) for i in range(model.time_horizon)]\n",
    "\n",
    "\n",
    "model.outcomes = [\n",
    "        ScalarOutcome(\"max_P\", kind=ScalarOutcome.MINIMIZE, expected_range=(0, 5)),\n",
    "        ScalarOutcome(\"utility\", kind=ScalarOutcome.MAXIMIZE, expected_range=(0, 2)),\n",
    "        ScalarOutcome(\"inertia\", kind=ScalarOutcome.MAXIMIZE, expected_range=(0, 1)),\n",
    "        ScalarOutcome(\"reliability\", kind=ScalarOutcome.MAXIMIZE, expected_range=(0, 1)),]\n"
   ]
  },
  {
   "cell_type": "markdown",
   "metadata": {},
   "source": [
    "2. Explore the behavior of the system in the absence of any release using 1000 scenarios, and the default sampling approach.\n",
    "    * visualize the outcomes of interest, are there any apparent trade-offs?\n",
    "    * can you visually identify the uncertainties that drive system behavior?\n"
   ]
  },
  {
   "cell_type": "code",
   "execution_count": 8,
   "metadata": {
    "ExecuteTime": {
     "end_time": "2023-04-07T13:56:55.065750Z",
     "start_time": "2023-04-07T13:56:55.065245Z"
    }
   },
   "outputs": [
    {
     "name": "stderr",
     "output_type": "stream",
     "text": [
      "100%|█████████████████████████████████████| 4000/4000 [00:05<00:00, 785.18it/s]\n"
     ]
    }
   ],
   "source": [
    "# Hint: A great moment to take another look at the examples!\n",
    "from ema_workbench import SequentialEvaluator\n",
    "from ema_workbench.em_framework.optimization import HyperVolume, EpsilonProgress\n",
    "from ema_workbench.em_framework.evaluators import Samplers\n",
    "\n",
    "n_scenarios = 1000\n",
    "n_policies = 4\n",
    "\n",
    "# with MultiprocessingEvaluator(model) as evaluator:\n",
    "#     experimenents, outcomes = evaluator.perform_experiments(n_scenarios, n_policies, lever_sampling=Samplers.MC)\n",
    "with SequentialEvaluator(model) as evaluator:\n",
    "    experiments, outcomes = evaluator.perform_experiments(scenarios=1000, policies=4)"
   ]
  },
  {
   "cell_type": "code",
   "execution_count": 9,
   "metadata": {},
   "outputs": [
    {
     "name": "stdout",
     "output_type": "stream",
     "text": [
      "max_P: type=<class 'numpy.ndarray'>, shape=(4000,)\n",
      "utility: type=<class 'numpy.ndarray'>, shape=(4000,)\n",
      "inertia: type=<class 'numpy.ndarray'>, shape=(4000,)\n",
      "reliability: type=<class 'numpy.ndarray'>, shape=(4000,)\n"
     ]
    }
   ],
   "source": [
    "outcomes.keys()\n",
    "for key, value in outcomes.items():\n",
    "    print(f\"{key}: type={type(value)}, shape={getattr(value, 'shape', None)}\")"
   ]
  },
  {
   "cell_type": "markdown",
   "metadata": {},
   "source": [
    "3. Explore the behavior of the system over 1000 scenarios for 4 randomly sampled candidate strategies.\n",
    "    * visualize the outcomes of interest\n",
    "    * what can you say about how the release decision influences the system?"
   ]
  },
  {
   "cell_type": "code",
   "execution_count": null,
   "metadata": {
    "ExecuteTime": {
     "end_time": "2023-04-07T13:56:55.068641Z",
     "start_time": "2023-04-07T13:56:55.068135Z"
    }
   },
   "outputs": [
    {
     "data": {
      "image/png": "[encoded data removed]",
      "text/plain": [
       "<Figure size 640x480 with 1 Axes>"
      ]
     },
     "metadata": {},
     "output_type": "display_data"
    }
   ],
   "source": [
    "import seaborn as sns\n",
    "import pandas as pd\n",
    "import matplotlib.pyplot as plt\n",
    "# Combine experiments and outcomes\n",
    "df = pd.concat([pd.DataFrame(experiments), pd.DataFrame(outcomes)], axis=1)\n",
    "\n",
    "# Boxplot of utility per policy\n",
    "sns.boxplot(x='policy', y='utility', data=df)\n",
    "plt.title('Utility per Policy')\n",
    "plt.show()"
   ]
  },
  {
   "cell_type": "markdown",
   "metadata": {},
   "source": [
    "4. If you have not used parallelization in the foregoing, try to adapt your code to use parallelization. The workbench comes with two evaluators for parallelization. The `MultiProcessingingEvaluator` and the `IpyparallelEvaluator`. When can you use each? Adapt your code from above and sue the `MultiProcessingingEvaluator`. Use the `time` or `timeit` library to check how much faster the computation for 1000 scenarios completes.\n",
    "\n",
    "#### A note on parallelization in Jupyter notebooks\n",
    "Using multiprocessing within a Jupyter notebook is tricky. On Linux it will work in general just fine. On a Mac it depends on the version of macOS and the version of Python. If you are on the latest version of macOS in combination with Python 3.8, it might work but no guarantees. On older versions of Python it should work fine. On Windows it is always a problem.\n",
    "\n",
    "The underlying explanation is quite technical. It has to do with how your operating system creates the additional python processes. On Windows, and the latest version of macOS in combination with Python 3.8. A completely new Python process is spawned. This new process does **not** inherit what is defined in memory of the parent process. The new child process will try to replicate what is in memory of the parent process by executing many of the import statements that have also been executed within the python process. Thus, if you define a model in the main process, it is not guaranteed to be known in the child processes. This is in particular true if you define the model within a jupyter notebook. Then the child processes will **never** know this function. Within jupyter notebooks, therefore, the best practice is to define your model within a `.py` file and import this `.py` file into the notebook. Now, each of the child processes will also execute this import statement and thus know the function.\n"
   ]
  },
  {
   "cell_type": "code",
   "execution_count": null,
   "metadata": {
    "ExecuteTime": {
     "end_time": "2023-04-07T13:56:55.071581Z",
     "start_time": "2023-04-07T13:56:55.071076Z"
    }
   },
   "outputs": [],
   "source": []
  },
  {
   "cell_type": "markdown",
   "metadata": {
    "collapsed": false
   },
   "source": [
    "#### Conclusion\n",
    "..."
   ]
  }
 ],
 "metadata": {
  "anaconda-cloud": {},
  "kernelspec": {
   "display_name": "gds24",
   "language": "python",
   "name": "python3"
  },
  "language_info": {
   "codemirror_mode": {
    "name": "ipython",
    "version": 3
   },
   "file_extension": ".py",
   "mimetype": "text/x-python",
   "name": "python",
   "nbconvert_exporter": "python",
   "pygments_lexer": "ipython3",
   "version": "3.10.15"
  },
  "latex_envs": {
   "LaTeX_envs_menu_present": true,
   "autocomplete": true,
   "bibliofile": "biblio.bib",
   "cite_by": "apalike",
   "current_citInitial": 1,
   "eqLabelWithNumbers": true,
   "eqNumInitial": 1,
   "hotkeys": {
    "equation": "Ctrl-E",
    "itemize": "Ctrl-I"
   },
   "labels_anchors": false,
   "latex_user_defs": false,
   "report_style_numbering": false,
   "user_envs_cfg": false
  }
 },
 "nbformat": 4,
 "nbformat_minor": 4
}
